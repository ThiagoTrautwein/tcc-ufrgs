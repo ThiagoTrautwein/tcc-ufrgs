{
 "cells": [
  {
   "cell_type": "markdown",
   "metadata": {},
   "source": [
    "# TCC - Análise de Sinais EEG\n",
    "\n",
    "Este notebook apresenta um fluxo de trabalho completo para a análise de sinais de EEG, desde a leitura e pré-processamento dos dados até a construção, treinamento e avaliação de um modelo de aprendizado profundo para classificação."
   ]
  },
  {
   "cell_type": "markdown",
   "metadata": {},
   "source": [
    "## 1. Bibliotecas e Configurações Iniciais\n",
    "\n",
    "Importação das bibliotecas necessárias e configuração do ambiente, incluindo a alocação de memória da GPU, se disponível."
   ]
  },
  {
   "cell_type": "code",
   "execution_count": null,
   "metadata": {},
   "outputs": [],
   "source": [
    "import pandas as pd\n",
    "import numpy as np\n",
    "import tensorflow as tf\n",
    "from sklearn.preprocessing import MinMaxScaler\n",
    "from sklearn.model_selection import train_test_split\n",
    "from sklearn.metrics import accuracy_score, precision_score, recall_score, f1_score, confusion_matrix, classification_report\n",
    "from tensorflow.keras.models import Sequential\n",
    "from tensorflow.keras.layers import Input, Bidirectional, LSTM, Dropout, Flatten, Dense\n",
    "from tensorflow.keras.optimizers import Adam\n",
    "from tensorflow.keras.callbacks import EarlyStopping, ModelCheckpoint\n",
    "\n",
    "# Configuração da GPU (opcional)\n",
    "gpus = tf.config.list_physical_devices('GPU')\n",
    "if gpus:\n",
    "    try:\n",
    "        tf.config.experimental.set_virtual_device_configuration(\n",
    "            gpus[0],\n",
    "            [tf.config.experimental.VirtualDeviceConfiguration(memory_limit=4000)]\n",
    "        )\n",
    "    except RuntimeError as e:\n",
    "        print(e)\n",
    "\n",
    "# Caminhos dos arquivos\n",
    "DATALAKE_DIR = '/home/thiago/gdrive/UFRGS/TCC/tcc-ufrgs/datalake'\n",
    "RAW_MUSE_PATH = f'{DATALAKE_DIR}/raw/Muse-v1.0/MU.txt'"
   ]
  },
  {
   "cell_type": "markdown",
   "metadata": {},
   "source": [
    "## 2. Leitura dos Dados\n",
    "\n",
    "Leitura do arquivo bruto e conversão dos dados em um formato adequado para o treinamento do modelo de deep learning. Cada amostra é convertida em um array NumPy com shape `(n_amostras, TARGET_LEN, n_canais)`."
   ]
  },
  {
   "cell_type": "code",
   "execution_count": null,
   "metadata": {},
   "outputs": [],
   "source": [
    "def load_data():\n",
    "    df = pd.read_csv(RAW_MUSE_PATH, sep='\\t', header=None, names=[\"id\", \"event\", \"device\", \"channel\", \"code\", \"size\", \"data\"])\n",
    "\n",
    "    df = df[df['code'] != -1]\n",
    "\n",
    "    # Converter 'data' para array NumPy\n",
    "    df[\"data_array\"] = df[\"data\"].apply(lambda x: np.array([int(v) for v in x.split(\",\")]))\n",
    "    \n",
    "    # Ordenar para consistência\n",
    "    df = df.sort_values([\"event\", \"channel\"]).reset_index(drop=True)\n",
    "\n",
    "    # Truncar para o menor tamanho\n",
    "    df[\"len\"] = df[\"data_array\"].apply(len)\n",
    "    min_len = df[\"len\"].min()\n",
    "    print(f\"Menor tamanho de sequência encontrado: {min_len}\")\n",
    "    df[\"data_array\"] = df[\"data_array\"].apply(lambda x: x[:min_len])\n",
    "\n",
    "    # Agrupar por evento\n",
    "    X = []\n",
    "    y = []\n",
    "\n",
    "    for event, group in df.groupby(\"event\"):\n",
    "        channel_arrays = [arr for arr in group[\"data_array\"].to_list()]\n",
    "        sample = np.stack(channel_arrays, axis=-1)  # (timesteps, n_channels)\n",
    "        X.append(sample)\n",
    "        y.append(group[\"code\"].iloc[0])\n",
    "\n",
    "    X = np.array(X)\n",
    "    y = np.array(y)\n",
    "\n",
    "    print(\"Shape final de X:\", X.shape)\n",
    "    print(\"Shape final de y:\", y.shape)\n",
    "\n",
    "    return X, y\n",
    "\n",
    "X, y = load_data()"
   ]
  },
  {
   "cell_type": "markdown",
   "metadata": {},
   "source": [
    "## 3. Pré-processamento e Filtragem dos Sinais\n",
    "\n",
    "Aplicação de filtros para remover ruídos e artefatos dos sinais de EEG. As seguintes técnicas são utilizadas:\n",
    "- **Filtro Butterworth Passa-Alta:** Para remover a flutuação da linha de base.\n",
    "- **Filtro Notch:** Para remover a interferência da rede elétrica (60 Hz).\n",
    "- **Denoising com Transformada Wavelet Discreta (DWT):** Para atenuar ruídos de alta frequência."
   ]
  },
  {
   "cell_type": "code",
   "execution_count": null,
   "metadata": {},
   "outputs": [],
   "source": [
    "import numpy as np\n",
    "from scipy.signal import butter, filtfilt, iirnotch\n",
    "import pywt\n",
    "\n",
    "class Preprocessing:\n",
    "    def __init__(self, fs=220):\n",
    "        self.fs = fs\n",
    "\n",
    "    def butterworth_highpass(self, data, cutoff=0.1, order=5):\n",
    "        b, a = butter(order, cutoff / (self.fs / 2), btype=\"high\", analog=False)\n",
    "        return filtfilt(b, a, data)\n",
    "\n",
    "    def notch_filter(self, data, freq=60.0, Q=30.0):\n",
    "        b, a = iirnotch(w0=freq/(self.fs/2), Q=Q)\n",
    "        return filtfilt(b, a, data)\n",
    "\n",
    "    def dwt_denoise_reconstruct(self, signal, wavelet='db4', level=3, mode='soft'):\n",
    "        coeffs = pywt.wavedec(signal, wavelet=wavelet, level=level)\n",
    "        n = len(signal)\n",
    "        for i in range(1, len(coeffs)):\n",
    "            cd = coeffs[i]\n",
    "            sigma = np.median(np.abs(cd)) / 0.6745 if cd.size > 0 else 0.0\n",
    "            thresh = sigma * np.sqrt(2 * np.log(n)) if sigma > 0 else 0.0\n",
    "            coeffs[i] = pywt.threshold(cd, thresh, mode=mode)\n",
    "        rec = pywt.waverec(coeffs, wavelet=wavelet)\n",
    "        return np.asarray(rec[:n])\n",
    "\n",
    "    def execute(self, X, y):\n",
    "        \"\"\"\n",
    "        Aplica filtros e DWT sobre X.\n",
    "        X: numpy array (n_samples, timesteps, n_channels)\n",
    "        y: numpy array (n_samples,)\n",
    "        Retorna: (X_filtered, y)\n",
    "        \"\"\"\n",
    "        n_samples, timesteps, n_channels = X.shape\n",
    "        print(f\"🔹 Iniciando pré-processamento: {n_samples} amostras, {n_channels} canais, {timesteps} timesteps\")\n",
    "\n",
    "        X_filtered = np.zeros_like(X, dtype=float)\n",
    "\n",
    "        for i in range(n_samples):\n",
    "            for ch in range(n_channels):\n",
    "                signal = X[i, :, ch].astype(float)\n",
    "\n",
    "                # Filtros sequenciais\n",
    "                signal = self.butterworth_highpass(signal, cutoff=0.1, order=5)\n",
    "                signal = self.notch_filter(signal, freq=60.0, Q=30.0)\n",
    "                signal = self.dwt_denoise_reconstruct(signal, wavelet='db4', level=3, mode='soft')\n",
    "\n",
    "                X_filtered[i, :, ch] = signal\n",
    "\n",
    "        print(\"✅ Pré-processamento concluído.\")\n",
    "        return X_filtered, y\n",
    "    \n",
    "X, y = Preprocessing().execute(X, y)"
   ]
  },
  {
   "cell_type": "markdown",
   "metadata": {},
   "source": [
    "## 4. Divisão dos Dados\n",
    "\n",
    "Os dados são divididos em conjuntos de treino, validação e teste"
   ]
  },
  {
   "cell_type": "code",
   "execution_count": null,
   "metadata": {},
   "outputs": [],
   "source": [
    "X_train, X_temp, y_train, y_temp = train_test_split(X, y, test_size=0.2, random_state=42, stratify=y)\n",
    "X_val, X_test, y_val, y_test = train_test_split(X_temp, y_temp, test_size=0.5, random_state=42, stratify=y_temp)"
   ]
  },
  {
   "cell_type": "markdown",
   "metadata": {},
   "source": [
    "## 5. Normalização\n",
    "\n",
    "Os dados são normalizados utilizando Z-score seguido por `MinMaxScaler` para escalar os valores entre 0 e 1. "
   ]
  },
  {
   "cell_type": "code",
   "execution_count": null,
   "metadata": {},
   "outputs": [],
   "source": [
    "def normalize(X_train: np.ndarray, X_val: np.ndarray, X_test: np.ndarray):\n",
    "    mu = X_train.mean(axis=(0, 1), keepdims=True)\n",
    "    sigma = X_train.std(axis=(0, 1), keepdims=True)\n",
    "    sigma[sigma == 0] = 1.0\n",
    "\n",
    "    X_train_z = (X_train - mu) / sigma\n",
    "    X_val_z   = (X_val - mu) / sigma\n",
    "    X_test_z  = (X_test - mu) / sigma\n",
    "\n",
    "    X_train_final = np.zeros_like(X_train_z)\n",
    "    X_val_final   = np.zeros_like(X_val_z)\n",
    "    X_test_final  = np.zeros_like(X_test_z)\n",
    "\n",
    "    n_channels = X_train.shape[2]\n",
    "\n",
    "    for ch in range(n_channels):\n",
    "        scaler = MinMaxScaler(feature_range=(0, 1))\n",
    "        X_train_final[:, :, ch] = scaler.fit_transform(X_train_z[:, :, ch])\n",
    "        X_val_final[:, :, ch]   = scaler.transform(X_val_z[:, :, ch])\n",
    "        X_test_final[:, :, ch]  = scaler.transform(X_test_z[:, :, ch])\n",
    "\n",
    "    return X_train_final, X_val_final, X_test_final\n",
    "\n",
    "X_train, X_val, X_test = normalize(X_train, X_val, X_test)\n",
    "\n",
    "print(f\"Treino: {X_train.shape}, Validação: {X_val.shape}, Teste: {X_test.shape}\")"
   ]
  },
  {
   "cell_type": "markdown",
   "metadata": {},
   "source": [
    "## 6. Construção do Modelo\n",
    "\n",
    "Definição da arquitetura do modelo, que consiste em uma rede neural recorrente com camadas LSTM bidirecionais, dropout para regularização e camadas densas para a classificação final."
   ]
  },
  {
   "cell_type": "code",
   "execution_count": null,
   "metadata": {},
   "outputs": [],
   "source": [
    "def create_model():\n",
    "    N_CHANNELS = 4\n",
    "    N_SAMPLES = 408\n",
    "    N_CLASSES = 10\n",
    "\n",
    "    # model = Sequential([\n",
    "    #     Input(shape=(N_SAMPLES, 4)),\n",
    "    #     Bidirectional(LSTM(units=N_SAMPLES, return_sequences=True)),\n",
    "    #     Dropout(0.1),\n",
    "    #     Bidirectional(LSTM(units=N_SAMPLES // 2, return_sequences=True)),\n",
    "    #     Dropout(0.1),\n",
    "    #     Bidirectional(LSTM(units=N_SAMPLES // 4)),\n",
    "    #     Dropout(0.1),\n",
    "    #     Dense(128, activation='elu'),\n",
    "    #     Dense(N_CLASSES, activation='softmax')\n",
    "    # ])\n",
    "\n",
    "    input = Input(shape=(N_SAMPLES, N_CHANNELS))\n",
    "    x = Bidirectional(LSTM(units=N_SAMPLES, return_sequences=True))(input)\n",
    "    x = Dropout(0.1)(x)\n",
    "    x = Bidirectional(LSTM(units=N_SAMPLES // 2, return_sequences=True))(x)\n",
    "    x = Dropout(0.1)(x)\n",
    "    x = Bidirectional(LSTM(units=N_SAMPLES // 4, return_sequences=False))(x)\n",
    "    x = Dropout(0.1)(x)\n",
    "    x = Flatten()(x)\n",
    "    x = Dense(128, activation='elu')(x)\n",
    "    output = Dense(N_CLASSES, activation='softmax', name='output_softmax')(x)\n",
    "\n",
    "    model = tf.keras.Model(input, output)\n",
    "    \n",
    "    model.compile(\n",
    "        optimizer=Adam(learning_rate=0.001),\n",
    "        loss='sparse_categorical_crossentropy',\n",
    "        metrics=['accuracy']\n",
    "    )\n",
    "\n",
    "    return model\n",
    "\n",
    "model = create_model()\n",
    "\n",
    "model.summary()"
   ]
  },
  {
   "cell_type": "markdown",
   "metadata": {},
   "source": [
    "## 7. Treinamento do Modelo\n",
    "\n",
    "Treinamento do modelo com os dados preparados. São utilizados callbacks para `EarlyStopping` (interromper o treino se a performance não melhorar) e `ModelCheckpoint` (salvar o melhor modelo encontrado durante o treino)."
   ]
  },
  {
   "cell_type": "code",
   "execution_count": null,
   "metadata": {},
   "outputs": [],
   "source": [
    "early_stop = EarlyStopping(\n",
    "    monitor='val_loss',\n",
    "    patience=10,\n",
    "    restore_best_weights=True\n",
    ")\n",
    "\n",
    "checkpoint = ModelCheckpoint(\n",
    "    'melhor_modelo.keras',\n",
    "    monitor='val_accuracy',\n",
    "    save_best_only=True,\n",
    "    mode='max',\n",
    "    verbose=0\n",
    ")\n",
    "\n",
    "history = model.fit(\n",
    "    X_train, y_train,\n",
    "    validation_data=(X_val, y_val),\n",
    "    epochs=10, \n",
    "    batch_size=64,\n",
    "    callbacks=[early_stop, checkpoint],\n",
    "    verbose=1\n",
    ")"
   ]
  },
  {
   "cell_type": "markdown",
   "metadata": {},
   "source": [
    "## 8. Avaliação do Modelo\n",
    "\n",
    "Avaliação da performance do modelo treinado no conjunto de teste. São calculadas métricas como acurácia, precisão, recall e F1-score, além da exibição de um relatório de classificação detalhado por classe."
   ]
  },
  {
   "cell_type": "code",
   "execution_count": null,
   "metadata": {},
   "outputs": [],
   "source": [
    "def validate(model, X_test, y_test):\n",
    "    y_pred_probs = model.predict(X_test)\n",
    "    y_pred = np.argmax(y_pred_probs, axis=1)\n",
    "\n",
    "    acc = accuracy_score(y_test, y_pred)\n",
    "    prec = precision_score(y_test, y_pred, average='macro')\n",
    "    rec = recall_score(y_test, y_pred, average='macro')\n",
    "    f1 = f1_score(y_test, y_pred, average='macro')\n",
    "\n",
    "    print(f\"\\n📊 Desempenho no conjunto de teste:\")\n",
    "    print(f\"Acurácia: {acc:.4f}\")\n",
    "    print(f\"Precisão (macro): {prec:.4f}\")\n",
    "    print(f\"Recall (macro): {rec:.4f}\")\n",
    "    print(f\"F1-score (macro): {f1:.4f}\")\n",
    "\n",
    "    print(\"\\nRelatório por classe:\")\n",
    "    print(classification_report(y_test, y_pred, digits=4))\n",
    "\n",
    "validate(model, X_test, y_test)"
   ]
  }
 ],
 "metadata": {
  "kernelspec": {
   "display_name": "Python (Machine Learning)",
   "language": "python",
   "name": "ml-venv"
  },
  "language_info": {
   "codemirror_mode": {
    "name": "ipython",
    "version": 3
   },
   "file_extension": ".py",
   "mimetype": "text/x-python",
   "name": "python",
   "nbconvert_exporter": "python",
   "pygments_lexer": "ipython3",
   "version": "3.13.8"
  }
 },
 "nbformat": 4,
 "nbformat_minor": 4
}
